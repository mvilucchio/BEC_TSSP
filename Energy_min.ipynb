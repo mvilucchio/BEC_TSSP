{
 "cells": [
  {
   "cell_type": "code",
   "execution_count": 1,
   "metadata": {},
   "outputs": [],
   "source": [
    "import numpy as np\n",
    "from numpy import fft\n",
    "import matplotlib.pyplot as plt\n",
    "\n",
    "EPS = 1e-12\n",
    "\n",
    "def get_freq(N):\n",
    "    arr = np.zeros((N,))\n",
    "    arr[0:int(N-np.floor(N/2))] = np.array(range(0,int(N-np.floor(N/2))))\n",
    "    arr[int(N-np.floor(N/2)):N] = np.array(range(0,int(np.floor(N/2)))) - np.floor(N/2)\n",
    "    return arr"
   ]
  },
  {
   "cell_type": "code",
   "execution_count": 50,
   "metadata": {},
   "outputs": [],
   "source": [
    "def td_tssp_2d_pbc(M, time_steps, a, b, psi0, potential, dt, beta, eps, saving_time):\n",
    "\n",
    "    x = np.linspace(a, b, M, endpoint=False)\n",
    "    y = np.linspace(a, b, M, endpoint=False)\n",
    "    X, Y = np.meshgrid(x, y, sparse=False, indexing=\"ij\")\n",
    "    t = dt * np.arange(time_steps)\n",
    "    f = get_freq(M)\n",
    "\n",
    "    Fx, Fy = np.meshgrid(f, f, sparse=False, indexing=\"ij\")\n",
    "    F2 = Fx**2 + Fy**2\n",
    "\n",
    "    psi = np.empty((int(time_steps/saving_time), M, M), dtype=complex)\n",
    "    psi[0,:] = psi0(X, Y)\n",
    "    \n",
    "    V = potential(X, Y) / eps\n",
    "    zero_pot = (np.abs(V) < EPS).astype(int)\n",
    "    expV = np.exp(- dt * V / eps)\n",
    "\n",
    "    p = psi[0,:]\n",
    "\n",
    "    for i in range(1, time_steps):\n",
    "        p= _td_tssp_pbc_2d_step(p, dt, beta, eps, x[2]- x[1], x[2]- x[1], b-a, \\\n",
    "                                        V, expV, zero_pot, F2)\n",
    "        if i%saving_time==0:\n",
    "            psi[int(i/saving_time),:] = p\n",
    "    return t, X, Y, psi\n",
    "\n",
    "\n",
    "\n",
    "def _td_tssp_pbc_2d_step(psi, dt, beta, eps, dx, dy, leng, V, expV, zero_pot, F2):\n",
    "\n",
    "    abs_psi = np.abs(psi)**2\n",
    "    p1 = np.empty(psi.shape, dtype=complex)\n",
    "    p1 = psi * np.where(zero_pot, 1 / np.sqrt(1 + beta*dt * abs_psi), \\\n",
    "                        np.sqrt((V*expV) / (V + beta*(1 - expV)*abs_psi)) )\n",
    "\n",
    "    p2 = fft.ifft2(fft.fft2(p1) * np.exp(- eps*dt * (np.pi**2/leng**2) * F2))\n",
    "\n",
    "    abs_p2 = np.abs(p2)**2\n",
    "    p3 = np.empty(psi.shape, dtype=complex)\n",
    "    p3 = p2 * np.where(zero_pot, 1 / np.sqrt(1 + beta*dt * abs_p2), \\\n",
    "                        np.sqrt((V*expV) / (V + beta*(1 - expV)*abs_p2)))\n",
    "\n",
    "    return p3 / np.sqrt(dx*dy * np.sum(np.abs(p3)**2))\n",
    "\n",
    "\n",
    "\n",
    "def mean_value(f, psi, a, b, M):\n",
    "    \"\"\"\n",
    "    Return the mean value of a function evaluated on a square grid of size\n",
    "    (b-a)^2 with M^2 points on it w.r.t. the probability density defined by\n",
    "    the wavefunction psi.\n",
    "    Parameters\n",
    "    ----------\n",
    "    f : function, 2 arguments\n",
    "        The function of which calculate the mean value. First argument should\n",
    "        be the x coordinate and the second the y coordinate.\n",
    "    psi : numpy matrix\n",
    "        Wave function that defines the probability deensity.\n",
    "    a : float\n",
    "        Beginning of the two axes.\n",
    "    b : float\n",
    "        Ending of the two axes.\n",
    "    M : int\n",
    "        Number of points per axis.\n",
    "    Raises\n",
    "    ------\n",
    "    RuntimeError\n",
    "        If the size of psi don't match with the gird of paramethes a, b and M.\n",
    "    Returns\n",
    "    -------\n",
    "    scalar\n",
    "        mean value of the function f.\n",
    "    \"\"\"\n",
    "    delta = np.abs(b-a)/M\n",
    "    #this is the area element for the case of a square grid. a,b represent the limits of the square in 2D\n",
    "    dA = delta**2\n",
    "\n",
    "    x = np.linspace(a, b, M,endpoint=False)\n",
    "    y = np.linspace(a, b, M,endpoint=False)\n",
    "    X, Y = np.meshgrid(x, y, sparse=False, indexing=\"ij\")\n",
    "    \n",
    "\n",
    "    if psi.shape == X.shape:\n",
    "        return np.sum(f(X,Y) * np.abs(psi)**2 * dA)\n",
    "    else:\n",
    "        raise RuntimeError(\"Size of psi should match the size of the grid.\")\n",
    "\n",
    "\n",
    "\n",
    "def gradient_2d(psi, x_spacing, y_spacing):\n",
    "    g = np.empty((2, psi.shape[0], psi.shape[1]), dtype=psi.dtype)\n",
    "    g[0,:] = (np.roll(psi, 1, axis=0) - psi)/x_spacing\n",
    "    g[1,:] = (np.roll(psi, 1, axis=1) - psi)/y_spacing\n",
    "    return g\n",
    "\n",
    "\n",
    "\n",
    "def energy_gpe(psi, V, beta, x_spacing, y_spacing):\n",
    "    a = np.abs(psi)\n",
    "    g = gradient_2d(psi, x_spacing, y_spacing)\n",
    "    g2 = np.abs(g[0,:])**2 + np.abs(g[1,:])**2\n",
    "    return x_spacing*y_spacing * np.sum(0.5*g2 + V * a**2 + 0.5*beta * a**4)\n",
    "def mu_gpe(psi, V, beta, x_spacing, y_spacing):\n",
    "    a = np.abs(psi)\n",
    "    g = gradient_2d(psi, x_spacing, y_spacing)\n",
    "    g2 = np.abs(g[0,:])**2 + np.abs(g[1,:])**2\n",
    "    return x_spacing*y_spacing * np.sum(0.5*g2 + V * a**2 + beta * a**4)"
   ]
  },
  {
   "cell_type": "code",
   "execution_count": 43,
   "metadata": {},
   "outputs": [
    {
     "data": {
      "text/plain": [
       "0.125"
      ]
     },
     "execution_count": 43,
     "metadata": {},
     "output_type": "execute_result"
    }
   ],
   "source": [
    "#M, time_steps, a, b, psi0, potential, dt, beta, eps\n",
    "M=16*8\n",
    "N=20000\n",
    "a=-8\n",
    "b=8\n",
    "gx=1\n",
    "gy=4\n",
    "saving_time=50\n",
    "potential=lambda x,y:(gx**2*x**2+gy**2*y**2)/2\n",
    "psi0= lambda x,y: (gx*gy)**(1/4)*np.exp(-(gx**2*x**2+gy**2*y**2)/2)/np.pi**(1/2)\n",
    "beta=200.\n",
    "dt=0.0001\n",
    "eps=1\n",
    "x_spacing=(b-a)/M\n",
    "y_spacing=x_spacing\n",
    "x_spacing"
   ]
  },
  {
   "cell_type": "code",
   "execution_count": 30,
   "metadata": {},
   "outputs": [
    {
     "name": "stderr",
     "output_type": "stream",
     "text": [
      "/home/lopetegui/anaconda3/lib/python3.7/site-packages/ipykernel_launcher.py:35: RuntimeWarning: divide by zero encountered in true_divide\n",
      "/home/lopetegui/anaconda3/lib/python3.7/site-packages/ipykernel_launcher.py:35: RuntimeWarning: invalid value encountered in true_divide\n",
      "/home/lopetegui/anaconda3/lib/python3.7/site-packages/ipykernel_launcher.py:42: RuntimeWarning: divide by zero encountered in true_divide\n",
      "/home/lopetegui/anaconda3/lib/python3.7/site-packages/ipykernel_launcher.py:42: RuntimeWarning: invalid value encountered in true_divide\n"
     ]
    }
   ],
   "source": [
    "psi=td_tssp_2d_pbc(M, N, a, b, psi0, potential, dt, beta, eps,saving_time)"
   ]
  },
  {
   "cell_type": "code",
   "execution_count": 51,
   "metadata": {},
   "outputs": [
    {
     "data": {
      "image/png": "[encoded data removed]",
      "text/plain": [
       "<Figure size 432x288 with 1 Axes>"
      ]
     },
     "metadata": {
      "needs_background": "light"
     },
     "output_type": "display_data"
    },
    {
     "data": {
      "text/plain": [
       "(11.289240827731431,\n",
       " 2.2891121548429934,\n",
       " 0.5953068042798357,\n",
       " 16.513237671149508)"
      ]
     },
     "execution_count": 51,
     "metadata": {},
     "output_type": "execute_result"
    }
   ],
   "source": [
    "x = np.linspace(a, b, M)\n",
    "y = np.linspace(a, b, M)\n",
    "X, Y = np.meshgrid(x, y, sparse=False, indexing=\"ij\")\n",
    "e=psi0(X,Y)\n",
    "V = potential(X, Y) / eps\n",
    "fx= lambda x,y: x\n",
    "fy= lambda x,y: y\n",
    "fx2= lambda x,y: x**2\n",
    "fy2= lambda x,y: y**2\n",
    "\n",
    "list_en=np.empty(len(psi[3]))\n",
    "for i in range (len(psi[3])):\n",
    "    list_en[i]=energy_gpe(psi[3][i], V, beta, x_spacing, y_spacing)\n",
    "plt.figure()\n",
    "plt.plot(list_en)\n",
    "plt.show()\n",
    "(list_en[-1],np.sqrt(mean_value(fx2,psi[3][-1],a,b,M)-mean_value(fx,psi[3][-1],a,b,M)**2),\\\n",
    "np.sqrt(mean_value(fy2,psi[3][-1],a,b,M)-mean_value(fy,psi[3][-1],a,b,M)**2),mu_gpe(psi[3][-1],V,beta,x_spacing,y_spacing))\n"
   ]
  },
  {
   "cell_type": "code",
   "execution_count": null,
   "metadata": {},
   "outputs": [],
   "source": []
  },
  {
   "cell_type": "code",
   "execution_count": null,
   "metadata": {},
   "outputs": [],
   "source": []
  },
  {
   "cell_type": "code",
   "execution_count": null,
   "metadata": {},
   "outputs": [],
   "source": []
  },
  {
   "cell_type": "code",
   "execution_count": null,
   "metadata": {},
   "outputs": [],
   "source": []
  },
  {
   "cell_type": "code",
   "execution_count": 83,
   "metadata": {},
   "outputs": [],
   "source": []
  },
  {
   "cell_type": "code",
   "execution_count": null,
   "metadata": {},
   "outputs": [],
   "source": []
  },
  {
   "cell_type": "code",
   "execution_count": null,
   "metadata": {},
   "outputs": [],
   "source": []
  }
 ],
 "metadata": {
  "kernelspec": {
   "display_name": "Python 3",
   "language": "python",
   "name": "python3"
  },
  "language_info": {
   "codemirror_mode": {
    "name": "ipython",
    "version": 3
   },
   "file_extension": ".py",
   "mimetype": "text/x-python",
   "name": "python",
   "nbconvert_exporter": "python",
   "pygments_lexer": "ipython3",
   "version": "3.7.1"
  }
 },
 "nbformat": 4,
 "nbformat_minor": 2
}
